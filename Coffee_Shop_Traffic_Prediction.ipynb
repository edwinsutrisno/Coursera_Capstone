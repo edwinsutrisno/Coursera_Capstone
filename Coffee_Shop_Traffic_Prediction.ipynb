{
 "cells": [
  {
   "cell_type": "markdown",
   "metadata": {},
   "source": [
    "# Coffee Shop Customer Traffic Prediction\n",
    "A Data Science Project Report <br>\n",
    "June 2020<br>\n",
    "Edwin Sutrisno"
   ]
  },
  {
   "cell_type": "markdown",
   "metadata": {},
   "source": [
    "## Introduction/Business Problem\n",
    "\n",
    "“Location, location, location” is the three-word mantra we often hear when considering how to make our investment run for the money. In this article, we look at a problem of deciding the best location to open a coffee shop so that it has the highest chance of getting high customer traffic. We know that location is important, but what factors specifically make a location a good location. To answer that question, we will study some data collected from the most successful coffee shops in West Kuala Lumpur area and try to use a machine learning technique to extract the driving factors behind their success."
   ]
  },
  {
   "cell_type": "markdown",
   "metadata": {},
   "source": [
    "## Data\n",
    "\n",
    "The main source of the data being used for this study is obtained from the Foursquare's API called Places. From the places API, we obtained locations of several successful coffee shops that become the subject of our study, their customer rating count to represent their traffic, and their neighboring venues. The location of interest in this study is the West Kuala Lumpur area. Because I am a local resident, I can determine that the most successful names for coffee shop in the city are Starbucks and Coffee Bean & Tea Leaf. These two brands will serve as our main subjects.\n",
    "\n",
    "The data gathering process is broken down into these 3 steps:\n",
    "1. Get all \"Starbucks\" and \"Coffee Bean & Tea Leaf\" locations within 4 km radius from a coordinate in West Kuala Lumpur, Malaysia area (latitude 3.1871 and longitude 101.6276)\n",
    "2. Get their customer ratings\n",
    "3. Get their nearby venues within 120 m radius\n",
    "\n",
    "With the three pieces of information above, we can start grouping locations for their levels of business traffic as marked by their customer rating count and the categories of venue that are nearby those locations. We will build a regression model to predict customer traffic as \"low, medium, or high\" based on features of the count of venues of different categories. Hopefully, we can identify characteristic neighbors that support a high-selling coffee shop."
   ]
  },
  {
   "cell_type": "code",
   "execution_count": null,
   "metadata": {},
   "outputs": [],
   "source": []
  }
 ],
 "metadata": {
  "kernelspec": {
   "display_name": "Python 3",
   "language": "python",
   "name": "python3"
  },
  "language_info": {
   "codemirror_mode": {
    "name": "ipython",
    "version": 3
   },
   "file_extension": ".py",
   "mimetype": "text/x-python",
   "name": "python",
   "nbconvert_exporter": "python",
   "pygments_lexer": "ipython3",
   "version": "3.7.3"
  }
 },
 "nbformat": 4,
 "nbformat_minor": 2
}
