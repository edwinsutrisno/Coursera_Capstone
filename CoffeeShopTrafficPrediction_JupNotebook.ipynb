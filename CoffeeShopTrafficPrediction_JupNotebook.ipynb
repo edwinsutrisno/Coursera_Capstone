{
 "cells": [
  {
   "cell_type": "markdown",
   "metadata": {},
   "source": [
    "# Predicting Customer Traffic for Coffee Shops\n",
    "June 21, 2020<br>\n",
    "Edwin Sutrisno"
   ]
  },
  {
   "cell_type": "markdown",
   "metadata": {},
   "source": [
    "## Introduction/Business Problem\n",
    "\n",
    "“Location, location, location” is the three-word mantra we often hear when considering how to make our investment run for the money. In this article, we look at a problem of deciding the best location to open a coffee shop so that it has the highest chance of getting high customer traffic. We know that location is important, but what factors specifically make a location a good location. To answer that question, we will study some data collected from the most successful coffee shops in West Kuala Lumpur area and try to use a machine learning technique to extract the driving factors behind their success."
   ]
  },
  {
   "cell_type": "markdown",
   "metadata": {},
   "source": [
    "## Data\n",
    "\n",
    "The main source of the data being used for this study is obtained from the Foursquare's API called Places. From the places API, we obtained locations of several successful coffee shops that become the subject of our study, their customer rating count to represent their traffic, and their neighboring venues. The location of interest in this study is the West Kuala Lumpur area. Because I am a local resident, I can determine that the most successful names for coffee shop in the city are Starbucks and Coffee Bean & Tea Leaf. These two brands will serve as our main subjects.\n",
    "\n",
    "The data gathering process is broken down into these 3 steps:\n",
    "1. Get all \"Starbucks\" and \"Coffee Bean & Tea Leaf\" locations within 4 km radius from a coordinate in West Kuala Lumpur, Malaysia area (latitude 3.1871 and longitude 101.6276)\n",
    "2. Get their customer ratings\n",
    "3. Get their nearby venues within 120 m radius\n",
    "\n",
    "With the three pieces of information above, we can start grouping locations for their levels of business traffic as marked by their customer rating count and the categories of venue that are nearby those locations. We will build a regression model to predict customer traffic as \"low, medium, or high\" based on features of the count of venues of different categories. Hopefully, we can identify characteristic neighbors that support a high-selling coffee shop."
   ]
  },
  {
   "cell_type": "code",
   "execution_count": 1,
   "metadata": {},
   "outputs": [],
   "source": [
    "# Import the python libraries needed\n",
    "from configparser import ConfigParser\n",
    "import pandas as pd\n",
    "import numpy as np\n",
    "import folium\n",
    "import requests\n",
    "import pickle\n",
    "from pandas.io.json import json_normalize\n",
    "from sklearn import tree, metrics\n",
    "from sklearn.model_selection import LeaveOneOut\n",
    "from matplotlib import pyplot as plt"
   ]
  },
  {
   "cell_type": "code",
   "execution_count": 2,
   "metadata": {},
   "outputs": [],
   "source": [
    "# Load the Foursquare Client ID and Secret to access Foursquare's API\n",
    "creds = ConfigParser()\n",
    "creds.read(filenames='foursquare_creds.env')\n",
    "CLIENT_ID = creds['CREDENTIALS']['CLIENT_ID']\n",
    "CLIENT_SECRET = creds['CREDENTIALS']['CLIENT_SECRET']\n",
    "API_VER = '20200501'\n",
    "del creds"
   ]
  },
  {
   "cell_type": "code",
   "execution_count": 3,
   "metadata": {},
   "outputs": [],
   "source": [
    "# Create a function to search for coffee venues in Foursquare and return a dataframe of the venues found:\n",
    "def find_coffee(shopname:str, coord:tuple):\n",
    "    \"\"\"\n",
    "    Find coffee shops using the search API within 4000 m radius.\n",
    "    Return: DataFrame\n",
    "    \"\"\"\n",
    "    url = 'https://api.foursquare.com/v2/venues/search'\n",
    "    params = dict(client_id=CLIENT_ID, client_secret=CLIENT_SECRET, v=API_VER,\n",
    "                  ll='{},{}'.format(coord[0], coord[1]),\n",
    "                  query=shopname,\n",
    "                  radius=4000,\n",
    "                  limit=100)\n",
    "    query = requests.get(url=url, params=params).json()\n",
    "    del url, params\n",
    "    \n",
    "    # Convert into DataFrame\n",
    "    coffee = json_normalize(query['response']['venues'])\n",
    "    coffee.columns = [col.split('.')[-1] for col in coffee.columns] # shorten column names\n",
    "    \n",
    "    # Extract Category\n",
    "    categ_exist = coffee['categories'].apply(lambda x: len(x) > 0)\n",
    "    coffee = coffee.loc[categ_exist]\n",
    "    del categ_exist\n",
    "    coffee['category1'] = [x[0]['icon']['prefix'].split('/')[5] for x in coffee['categories'].tolist()]\n",
    "    coffee['category2'] = [x[0]['icon']['prefix'].split('/')[6] for x in coffee['categories'].tolist()]\n",
    "    \n",
    "    # Select columns\n",
    "    column_selection = ['name', 'distance', 'category1', 'category2', 'neighborhood', 'address', 'lat', 'lng', 'id']\n",
    "    coffee = coffee[column_selection]\n",
    "    \n",
    "    # Remove venues that are not coffess shop or cafe\n",
    "    is_coffee = coffee['category2'].isin(['coffeeshop_', 'cafe_'])\n",
    "    coffee = coffee.loc[is_coffee]\n",
    "    \n",
    "    # Remove duplicate locations\n",
    "    coffee['lat'] = coffee['lat'].round(4)\n",
    "    coffee['lng'] = coffee['lng'].round(4)\n",
    "    coffee.drop_duplicates(subset=['lat', 'lng'], inplace=True)\n",
    "    coffee.reset_index(drop=True, inplace=True)\n",
    "    return coffee"
   ]
  },
  {
   "cell_type": "markdown",
   "metadata": {},
   "source": [
    "In this study we are interested in analyzing neighborhoods in the West of Kuala Lumpur city, Malaysia. Let's define the coordinate of our search:"
   ]
  },
  {
   "cell_type": "code",
   "execution_count": 4,
   "metadata": {},
   "outputs": [],
   "source": [
    "COORD = (3.1871, 101.6276) # center of search location"
   ]
  },
  {
   "cell_type": "markdown",
   "metadata": {},
   "source": [
    "We can view this location on a map using Folium."
   ]
  },
  {
   "cell_type": "code",
   "execution_count": 5,
   "metadata": {},
   "outputs": [
    {
     "data": {
      "text/html": [
       "<div style=\"width:100%;\"><div style=\"position:relative;width:100%;height:0;padding-bottom:60%;\"><span style=\"color:#565656\">Make this Notebook Trusted to load map: File -> Trust Notebook</span><iframe src=\"about:blank\" style=\"position:absolute;width:100%;height:100%;left:0;top:0;border:none !important;\" data-html=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 onload=\"this.contentDocument.open();this.contentDocument.write(atob(this.getAttribute('data-html')));this.contentDocument.close();\" allowfullscreen webkitallowfullscreen mozallowfullscreen></iframe></div></div>"
      ],
      "text/plain": [
       "<folium.folium.Map at 0x1dfe7462a20>"
      ]
     },
     "execution_count": 5,
     "metadata": {},
     "output_type": "execute_result"
    }
   ],
   "source": [
    "klmap = folium.Map(location=COORD, zoom_start=13)\n",
    "folium.Marker(COORD).add_to(klmap)\n",
    "klmap"
   ]
  },
  {
   "cell_type": "markdown",
   "metadata": {},
   "source": [
    "In case you are viewing this notebook on GitHub and the folium map is not appearing, here is a saved snapshot of the map:\n",
    "![\"kl map\"](kl_map.JPG)"
   ]
  },
  {
   "cell_type": "markdown",
   "metadata": {},
   "source": [
    "After defining the center of search location we find the nearby Starbucks and Coffee Bean locations using the Foursquare's \"search\" API embedded into the find_coffee function defined above."
   ]
  },
  {
   "cell_type": "code",
   "execution_count": 6,
   "metadata": {},
   "outputs": [
    {
     "data": {
      "text/html": [
       "<div>\n",
       "<style scoped>\n",
       "    .dataframe tbody tr th:only-of-type {\n",
       "        vertical-align: middle;\n",
       "    }\n",
       "\n",
       "    .dataframe tbody tr th {\n",
       "        vertical-align: top;\n",
       "    }\n",
       "\n",
       "    .dataframe thead th {\n",
       "        text-align: right;\n",
       "    }\n",
       "</style>\n",
       "<table border=\"1\" class=\"dataframe\">\n",
       "  <thead>\n",
       "    <tr style=\"text-align: right;\">\n",
       "      <th></th>\n",
       "      <th>name</th>\n",
       "      <th>distance</th>\n",
       "      <th>category1</th>\n",
       "      <th>category2</th>\n",
       "      <th>neighborhood</th>\n",
       "      <th>address</th>\n",
       "      <th>lat</th>\n",
       "      <th>lng</th>\n",
       "      <th>id</th>\n",
       "    </tr>\n",
       "  </thead>\n",
       "  <tbody>\n",
       "    <tr>\n",
       "      <th>0</th>\n",
       "      <td>Starbucks</td>\n",
       "      <td>849</td>\n",
       "      <td>food</td>\n",
       "      <td>coffeeshop_</td>\n",
       "      <td>NaN</td>\n",
       "      <td>Kepong Village Mall</td>\n",
       "      <td>3.1926</td>\n",
       "      <td>101.6329</td>\n",
       "      <td>53bcab74498e7e4a348ba0f9</td>\n",
       "    </tr>\n",
       "    <tr>\n",
       "      <th>1</th>\n",
       "      <td>Starbucks Reserve</td>\n",
       "      <td>66</td>\n",
       "      <td>food</td>\n",
       "      <td>coffeeshop_</td>\n",
       "      <td>The Waterfront</td>\n",
       "      <td>GF-03, The Waterfront</td>\n",
       "      <td>3.1869</td>\n",
       "      <td>101.6282</td>\n",
       "      <td>5a20e400a8eb607c63dfe67a</td>\n",
       "    </tr>\n",
       "    <tr>\n",
       "      <th>2</th>\n",
       "      <td>Starbucks</td>\n",
       "      <td>3219</td>\n",
       "      <td>food</td>\n",
       "      <td>coffeeshop_</td>\n",
       "      <td>NaN</td>\n",
       "      <td>AEON Metro Prima Shopping Centre</td>\n",
       "      <td>3.2138</td>\n",
       "      <td>101.6388</td>\n",
       "      <td>4b5713d9f964a5207e2528e3</td>\n",
       "    </tr>\n",
       "    <tr>\n",
       "      <th>3</th>\n",
       "      <td>Starbucks</td>\n",
       "      <td>3763</td>\n",
       "      <td>food</td>\n",
       "      <td>coffeeshop_</td>\n",
       "      <td>Mutiara Damansara</td>\n",
       "      <td>The Curve</td>\n",
       "      <td>3.1575</td>\n",
       "      <td>101.6113</td>\n",
       "      <td>4b0d1050f964a520894323e3</td>\n",
       "    </tr>\n",
       "    <tr>\n",
       "      <th>4</th>\n",
       "      <td>Starbucks</td>\n",
       "      <td>4452</td>\n",
       "      <td>food</td>\n",
       "      <td>coffeeshop_</td>\n",
       "      <td>NaN</td>\n",
       "      <td>1 Utama Shopping Centre</td>\n",
       "      <td>3.1488</td>\n",
       "      <td>101.6160</td>\n",
       "      <td>53ace690498ee1246590366b</td>\n",
       "    </tr>\n",
       "  </tbody>\n",
       "</table>\n",
       "</div>"
      ],
      "text/plain": [
       "                name  distance category1    category2       neighborhood  \\\n",
       "0          Starbucks       849      food  coffeeshop_                NaN   \n",
       "1  Starbucks Reserve        66      food  coffeeshop_     The Waterfront   \n",
       "2          Starbucks      3219      food  coffeeshop_                NaN   \n",
       "3          Starbucks      3763      food  coffeeshop_  Mutiara Damansara   \n",
       "4          Starbucks      4452      food  coffeeshop_                NaN   \n",
       "\n",
       "                            address     lat       lng  \\\n",
       "0               Kepong Village Mall  3.1926  101.6329   \n",
       "1             GF-03, The Waterfront  3.1869  101.6282   \n",
       "2  AEON Metro Prima Shopping Centre  3.2138  101.6388   \n",
       "3                         The Curve  3.1575  101.6113   \n",
       "4           1 Utama Shopping Centre  3.1488  101.6160   \n",
       "\n",
       "                         id  \n",
       "0  53bcab74498e7e4a348ba0f9  \n",
       "1  5a20e400a8eb607c63dfe67a  \n",
       "2  4b5713d9f964a5207e2528e3  \n",
       "3  4b0d1050f964a520894323e3  \n",
       "4  53ace690498ee1246590366b  "
      ]
     },
     "execution_count": 6,
     "metadata": {},
     "output_type": "execute_result"
    }
   ],
   "source": [
    "stbx = find_coffee('starbucks', COORD)\n",
    "stbx.head(5)"
   ]
  },
  {
   "cell_type": "code",
   "execution_count": 7,
   "metadata": {
    "scrolled": false
   },
   "outputs": [
    {
     "data": {
      "text/html": [
       "<div>\n",
       "<style scoped>\n",
       "    .dataframe tbody tr th:only-of-type {\n",
       "        vertical-align: middle;\n",
       "    }\n",
       "\n",
       "    .dataframe tbody tr th {\n",
       "        vertical-align: top;\n",
       "    }\n",
       "\n",
       "    .dataframe thead th {\n",
       "        text-align: right;\n",
       "    }\n",
       "</style>\n",
       "<table border=\"1\" class=\"dataframe\">\n",
       "  <thead>\n",
       "    <tr style=\"text-align: right;\">\n",
       "      <th></th>\n",
       "      <th>name</th>\n",
       "      <th>distance</th>\n",
       "      <th>category1</th>\n",
       "      <th>category2</th>\n",
       "      <th>neighborhood</th>\n",
       "      <th>address</th>\n",
       "      <th>lat</th>\n",
       "      <th>lng</th>\n",
       "      <th>id</th>\n",
       "    </tr>\n",
       "  </thead>\n",
       "  <tbody>\n",
       "    <tr>\n",
       "      <th>0</th>\n",
       "      <td>The Coffee Bean &amp; Tea Leaf</td>\n",
       "      <td>58</td>\n",
       "      <td>food</td>\n",
       "      <td>coffeeshop_</td>\n",
       "      <td>Desa ParkCity, Kuala Lumpur, Kuala Lumpur</td>\n",
       "      <td>Lot No. GF-09, Ground Level</td>\n",
       "      <td>3.1866</td>\n",
       "      <td>101.6278</td>\n",
       "      <td>4b251ac8f964a520516c24e3</td>\n",
       "    </tr>\n",
       "    <tr>\n",
       "      <th>1</th>\n",
       "      <td>The Coffee Bean &amp; Tea Leaf</td>\n",
       "      <td>1734</td>\n",
       "      <td>food</td>\n",
       "      <td>coffeeshop_</td>\n",
       "      <td>NaN</td>\n",
       "      <td>NaN</td>\n",
       "      <td>3.1972</td>\n",
       "      <td>101.6157</td>\n",
       "      <td>58097c7cd67c32945bf46a86</td>\n",
       "    </tr>\n",
       "    <tr>\n",
       "      <th>2</th>\n",
       "      <td>The Coffee Bean &amp; Tea Leaf</td>\n",
       "      <td>832</td>\n",
       "      <td>food</td>\n",
       "      <td>coffeeshop_</td>\n",
       "      <td>Plaza Arkadia</td>\n",
       "      <td>A-G-11(Block A), Plaza Arkadia. No,3 Jalan Int...</td>\n",
       "      <td>3.1858</td>\n",
       "      <td>101.6350</td>\n",
       "      <td>5930087d4acb192f93dd827f</td>\n",
       "    </tr>\n",
       "    <tr>\n",
       "      <th>3</th>\n",
       "      <td>The Coffee Bean &amp; Tea Leaf</td>\n",
       "      <td>3766</td>\n",
       "      <td>food</td>\n",
       "      <td>coffeeshop_</td>\n",
       "      <td>NaN</td>\n",
       "      <td>The Curve</td>\n",
       "      <td>3.1571</td>\n",
       "      <td>101.6119</td>\n",
       "      <td>4b46fa8df964a520282a26e3</td>\n",
       "    </tr>\n",
       "    <tr>\n",
       "      <th>4</th>\n",
       "      <td>The Coffee Bean &amp; Tea Leaf</td>\n",
       "      <td>3586</td>\n",
       "      <td>food</td>\n",
       "      <td>coffeeshop_</td>\n",
       "      <td>Mont Kiara</td>\n",
       "      <td>Verandah No.6 &amp; Terrace B, G-Floor, Shoplex Mo...</td>\n",
       "      <td>3.1671</td>\n",
       "      <td>101.6529</td>\n",
       "      <td>4c1100463ce120a106ee081c</td>\n",
       "    </tr>\n",
       "  </tbody>\n",
       "</table>\n",
       "</div>"
      ],
      "text/plain": [
       "                         name  distance category1    category2  \\\n",
       "0  The Coffee Bean & Tea Leaf        58      food  coffeeshop_   \n",
       "1  The Coffee Bean & Tea Leaf      1734      food  coffeeshop_   \n",
       "2  The Coffee Bean & Tea Leaf       832      food  coffeeshop_   \n",
       "3  The Coffee Bean & Tea Leaf      3766      food  coffeeshop_   \n",
       "4  The Coffee Bean & Tea Leaf      3586      food  coffeeshop_   \n",
       "\n",
       "                                neighborhood  \\\n",
       "0  Desa ParkCity, Kuala Lumpur, Kuala Lumpur   \n",
       "1                                        NaN   \n",
       "2                              Plaza Arkadia   \n",
       "3                                        NaN   \n",
       "4                                 Mont Kiara   \n",
       "\n",
       "                                             address     lat       lng  \\\n",
       "0                        Lot No. GF-09, Ground Level  3.1866  101.6278   \n",
       "1                                                NaN  3.1972  101.6157   \n",
       "2  A-G-11(Block A), Plaza Arkadia. No,3 Jalan Int...  3.1858  101.6350   \n",
       "3                                          The Curve  3.1571  101.6119   \n",
       "4  Verandah No.6 & Terrace B, G-Floor, Shoplex Mo...  3.1671  101.6529   \n",
       "\n",
       "                         id  \n",
       "0  4b251ac8f964a520516c24e3  \n",
       "1  58097c7cd67c32945bf46a86  \n",
       "2  5930087d4acb192f93dd827f  \n",
       "3  4b46fa8df964a520282a26e3  \n",
       "4  4c1100463ce120a106ee081c  "
      ]
     },
     "execution_count": 7,
     "metadata": {},
     "output_type": "execute_result"
    }
   ],
   "source": [
    "cobean = find_coffee('coffee bean & tea leaf', COORD)\n",
    "cobean.head(5)"
   ]
  },
  {
   "cell_type": "markdown",
   "metadata": {},
   "source": [
    "To combine the results from the two dataframes, we create a new dataframe called coffee:"
   ]
  },
  {
   "cell_type": "code",
   "execution_count": 8,
   "metadata": {},
   "outputs": [],
   "source": [
    "coffee = pd.concat([stbx, cobean], ignore_index=True)"
   ]
  },
  {
   "cell_type": "markdown",
   "metadata": {},
   "source": [
    "Because we are trying to predict customer traffic, we also need to get the data of customer ratings. To do that, we use Foursquare's \"venue\" API of querying the details of a venue given its id. One of the returned keys that is important to us is the \"ratingSignals\" which can indicates how often people visited that venue. Of course, using this feature does not guarantee that it is 100% accurate. For example, people may visit but not rate the venue. So, this is going to be a rough approximation and it is the only data available from Foursquare."
   ]
  },
  {
   "cell_type": "code",
   "execution_count": 9,
   "metadata": {},
   "outputs": [
    {
     "data": {
      "text/html": [
       "<div>\n",
       "<style scoped>\n",
       "    .dataframe tbody tr th:only-of-type {\n",
       "        vertical-align: middle;\n",
       "    }\n",
       "\n",
       "    .dataframe tbody tr th {\n",
       "        vertical-align: top;\n",
       "    }\n",
       "\n",
       "    .dataframe thead th {\n",
       "        text-align: right;\n",
       "    }\n",
       "</style>\n",
       "<table border=\"1\" class=\"dataframe\">\n",
       "  <thead>\n",
       "    <tr style=\"text-align: right;\">\n",
       "      <th></th>\n",
       "      <th>name</th>\n",
       "      <th>distance</th>\n",
       "      <th>category1</th>\n",
       "      <th>category2</th>\n",
       "      <th>neighborhood</th>\n",
       "      <th>address</th>\n",
       "      <th>lat</th>\n",
       "      <th>lng</th>\n",
       "      <th>id</th>\n",
       "      <th>rating</th>\n",
       "      <th>ratingSignals</th>\n",
       "    </tr>\n",
       "  </thead>\n",
       "  <tbody>\n",
       "    <tr>\n",
       "      <th>0</th>\n",
       "      <td>Starbucks</td>\n",
       "      <td>849</td>\n",
       "      <td>food</td>\n",
       "      <td>coffeeshop_</td>\n",
       "      <td>NaN</td>\n",
       "      <td>Kepong Village Mall</td>\n",
       "      <td>3.1926</td>\n",
       "      <td>101.6329</td>\n",
       "      <td>53bcab74498e7e4a348ba0f9</td>\n",
       "      <td>7.3</td>\n",
       "      <td>73</td>\n",
       "    </tr>\n",
       "    <tr>\n",
       "      <th>1</th>\n",
       "      <td>Starbucks Reserve</td>\n",
       "      <td>66</td>\n",
       "      <td>food</td>\n",
       "      <td>coffeeshop_</td>\n",
       "      <td>The Waterfront</td>\n",
       "      <td>GF-03, The Waterfront</td>\n",
       "      <td>3.1869</td>\n",
       "      <td>101.6282</td>\n",
       "      <td>5a20e400a8eb607c63dfe67a</td>\n",
       "      <td>8.0</td>\n",
       "      <td>22</td>\n",
       "    </tr>\n",
       "    <tr>\n",
       "      <th>2</th>\n",
       "      <td>Starbucks</td>\n",
       "      <td>3219</td>\n",
       "      <td>food</td>\n",
       "      <td>coffeeshop_</td>\n",
       "      <td>NaN</td>\n",
       "      <td>AEON Metro Prima Shopping Centre</td>\n",
       "      <td>3.2138</td>\n",
       "      <td>101.6388</td>\n",
       "      <td>4b5713d9f964a5207e2528e3</td>\n",
       "      <td>7.1</td>\n",
       "      <td>282</td>\n",
       "    </tr>\n",
       "    <tr>\n",
       "      <th>3</th>\n",
       "      <td>Starbucks</td>\n",
       "      <td>3763</td>\n",
       "      <td>food</td>\n",
       "      <td>coffeeshop_</td>\n",
       "      <td>Mutiara Damansara</td>\n",
       "      <td>The Curve</td>\n",
       "      <td>3.1575</td>\n",
       "      <td>101.6113</td>\n",
       "      <td>4b0d1050f964a520894323e3</td>\n",
       "      <td>7.9</td>\n",
       "      <td>538</td>\n",
       "    </tr>\n",
       "    <tr>\n",
       "      <th>4</th>\n",
       "      <td>Starbucks</td>\n",
       "      <td>4452</td>\n",
       "      <td>food</td>\n",
       "      <td>coffeeshop_</td>\n",
       "      <td>NaN</td>\n",
       "      <td>1 Utama Shopping Centre</td>\n",
       "      <td>3.1488</td>\n",
       "      <td>101.6160</td>\n",
       "      <td>53ace690498ee1246590366b</td>\n",
       "      <td>7.5</td>\n",
       "      <td>122</td>\n",
       "    </tr>\n",
       "    <tr>\n",
       "      <th>5</th>\n",
       "      <td>Starbucks</td>\n",
       "      <td>3805</td>\n",
       "      <td>food</td>\n",
       "      <td>coffeeshop_</td>\n",
       "      <td>NaN</td>\n",
       "      <td>IPC Shopping Centre</td>\n",
       "      <td>3.1569</td>\n",
       "      <td>101.6116</td>\n",
       "      <td>4b0e8c7bf964a520625823e3</td>\n",
       "      <td>7.2</td>\n",
       "      <td>241</td>\n",
       "    </tr>\n",
       "    <tr>\n",
       "      <th>6</th>\n",
       "      <td>Starbucks</td>\n",
       "      <td>3754</td>\n",
       "      <td>food</td>\n",
       "      <td>coffeeshop_</td>\n",
       "      <td>NaN</td>\n",
       "      <td>22, Jalan 25/70A Desa Sri Hartamas</td>\n",
       "      <td>3.1624</td>\n",
       "      <td>101.6506</td>\n",
       "      <td>4dd47aa9814dc3d020774257</td>\n",
       "      <td>7.3</td>\n",
       "      <td>315</td>\n",
       "    </tr>\n",
       "    <tr>\n",
       "      <th>7</th>\n",
       "      <td>Starbucks</td>\n",
       "      <td>4314</td>\n",
       "      <td>food</td>\n",
       "      <td>coffeeshop_</td>\n",
       "      <td>NaN</td>\n",
       "      <td>1 Utama Shopping Centre (New Wing)</td>\n",
       "      <td>3.1500</td>\n",
       "      <td>101.6164</td>\n",
       "      <td>4b61623ef964a520b0112ae3</td>\n",
       "      <td>7.3</td>\n",
       "      <td>622</td>\n",
       "    </tr>\n",
       "  </tbody>\n",
       "</table>\n",
       "</div>"
      ],
      "text/plain": [
       "                name  distance category1    category2       neighborhood  \\\n",
       "0          Starbucks       849      food  coffeeshop_                NaN   \n",
       "1  Starbucks Reserve        66      food  coffeeshop_     The Waterfront   \n",
       "2          Starbucks      3219      food  coffeeshop_                NaN   \n",
       "3          Starbucks      3763      food  coffeeshop_  Mutiara Damansara   \n",
       "4          Starbucks      4452      food  coffeeshop_                NaN   \n",
       "5          Starbucks      3805      food  coffeeshop_                NaN   \n",
       "6          Starbucks      3754      food  coffeeshop_                NaN   \n",
       "7          Starbucks      4314      food  coffeeshop_                NaN   \n",
       "\n",
       "                              address     lat       lng  \\\n",
       "0                 Kepong Village Mall  3.1926  101.6329   \n",
       "1               GF-03, The Waterfront  3.1869  101.6282   \n",
       "2    AEON Metro Prima Shopping Centre  3.2138  101.6388   \n",
       "3                           The Curve  3.1575  101.6113   \n",
       "4             1 Utama Shopping Centre  3.1488  101.6160   \n",
       "5                 IPC Shopping Centre  3.1569  101.6116   \n",
       "6  22, Jalan 25/70A Desa Sri Hartamas  3.1624  101.6506   \n",
       "7  1 Utama Shopping Centre (New Wing)  3.1500  101.6164   \n",
       "\n",
       "                         id  rating  ratingSignals  \n",
       "0  53bcab74498e7e4a348ba0f9     7.3             73  \n",
       "1  5a20e400a8eb607c63dfe67a     8.0             22  \n",
       "2  4b5713d9f964a5207e2528e3     7.1            282  \n",
       "3  4b0d1050f964a520894323e3     7.9            538  \n",
       "4  53ace690498ee1246590366b     7.5            122  \n",
       "5  4b0e8c7bf964a520625823e3     7.2            241  \n",
       "6  4dd47aa9814dc3d020774257     7.3            315  \n",
       "7  4b61623ef964a520b0112ae3     7.3            622  "
      ]
     },
     "execution_count": 9,
     "metadata": {},
     "output_type": "execute_result"
    }
   ],
   "source": [
    "ratings = []\n",
    "for ii in range(coffee.shape[0]):\n",
    "    venue_id = coffee.loc[ii, 'id']\n",
    "    url = 'https://api.foursquare.com/v2/venues/{}'.format(venue_id)\n",
    "    params = dict(client_id=CLIENT_ID, client_secret=CLIENT_SECRET, v=API_VER)\n",
    "    query = requests.get(url=url, params=params).json()\n",
    "    try:\n",
    "        rating = json_normalize(query['response']['venue'])[['id', 'rating', 'ratingSignals']]\n",
    "    except:\n",
    "        rating = pd.DataFrame({'id':venue_id, 'rating':-1, 'ratingSignals':-1}, index=[ii])\n",
    "    ratings.append(rating)\n",
    "    del query, rating, url, params, venue_id\n",
    "del ii\n",
    "ratings = pd.concat(ratings, axis=0)\n",
    "coffee = coffee.merge(ratings, on='id')\n",
    "del ratings\n",
    "coffee.head(8)"
   ]
  },
  {
   "cell_type": "markdown",
   "metadata": {},
   "source": [
    "After getting the data, I did a manual check and found that Foursqure returned many false locations where the venues don't  exist at the given coordinates. Some venues were duplicated locations but of different id's such that they seemed to be different venues. Simple but laborious Google Maps search can give us the answer if a venue is valid or not. There was no hard rule to automate the data cleaning process. \n",
    "\n",
    "I saved the clean dataset into a CSV file that can be loaded as below."
   ]
  },
  {
   "cell_type": "code",
   "execution_count": 10,
   "metadata": {},
   "outputs": [
    {
     "name": "stdout",
     "output_type": "stream",
     "text": [
      "Number of rows = 22\n"
     ]
    }
   ],
   "source": [
    "coffee = pd.read_csv('CoffeeDataframeClean.csv', index_col=0)\n",
    "print('Number of rows =', len(coffee))"
   ]
  },
  {
   "cell_type": "markdown",
   "metadata": {},
   "source": [
    "Let's visualize again on the map, but this time with all of the coffee shop locations shown."
   ]
  },
  {
   "cell_type": "code",
   "execution_count": 11,
   "metadata": {},
   "outputs": [
    {
     "data": {
      "text/html": [
       "<div style=\"width:100%;\"><div style=\"position:relative;width:100%;height:0;padding-bottom:60%;\"><span style=\"color:#565656\">Make this Notebook Trusted to load map: File -> Trust Notebook</span><iframe src=\"about:blank\" style=\"position:absolute;width:100%;height:100%;left:0;top:0;border:none !important;\" data-html=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 onload=\"this.contentDocument.open();this.contentDocument.write(atob(this.getAttribute('data-html')));this.contentDocument.close();\" allowfullscreen webkitallowfullscreen mozallowfullscreen></iframe></div></div>"
      ],
      "text/plain": [
       "<folium.folium.Map at 0x1dfe7462a20>"
      ]
     },
     "execution_count": 11,
     "metadata": {},
     "output_type": "execute_result"
    }
   ],
   "source": [
    "for lat, lng in zip(coffee['lat'], coffee['lng']):\n",
    "    folium.CircleMarker((lat, lng), radius=5, color='red').add_to(klmap)\n",
    "klmap"
   ]
  },
  {
   "cell_type": "markdown",
   "metadata": {},
   "source": [
    "In case you are viewing this notebook on GitHub and the folium map is not appearing, here is a saved snapshot of the map:\n",
    "![\"coffee map\"](coffee_map.JPG)"
   ]
  },
  {
   "cell_type": "markdown",
   "metadata": {},
   "source": [
    "# Methodology"
   ]
  },
  {
   "cell_type": "markdown",
   "metadata": {},
   "source": [
    "In the previous section, we collected data of coffee shops and their number of customer ratings (i.e. customer traffic). That dataset established our prediction target. The next step to build a model is to define our predictive features. In this study, we are going to build our features from the types of venues that are adjacent to the coffee shops. We are working on a hypothesis that certain types of venues and the number of them may promote traffic to our coffee business.\n",
    "\n",
    "To get the nearby venues and their categories, we use the Foursquare's \"explore\" API."
   ]
  },
  {
   "cell_type": "markdown",
   "metadata": {},
   "source": [
    "### Build the Features"
   ]
  },
  {
   "cell_type": "code",
   "execution_count": 12,
   "metadata": {},
   "outputs": [],
   "source": [
    "# Function to \"explore\" venues that are nearby a coffee location\n",
    "def find_nearby(coord:tuple):\n",
    "    \"\"\"\n",
    "    Find nearby venues using API explore.\n",
    "    Return:\n",
    "        nearby : DataFrame\n",
    "    \"\"\"\n",
    "    url = 'https://api.foursquare.com/v2/venues/explore'\n",
    "    nearby = []\n",
    "    for section in ['food', 'drinks', 'shops', 'arts', 'outdoors', None]:\n",
    "        print('Finding section', section)\n",
    "        params = dict(client_id=CLIENT_ID, client_secret=CLIENT_SECRET, v=API_VER,\n",
    "                      ll='{},{}'.format(coord[0], coord[1]),\n",
    "                      section=section, radius=120, limit=200)\n",
    "        query = requests.get(url=url, params=params).json()\n",
    "        nearby_sec = [x['venue'] for x in query['response']['groups'][0]['items']]\n",
    "        if not(nearby_sec):\n",
    "            print('No venues found.')\n",
    "            continue\n",
    "        nearby_sec = [{'name':x['name'], 'id':x['id'], 'category_url':x['categories'][0]['icon']['prefix']} for x in nearby_sec]\n",
    "        nearby_sec = json_normalize(nearby_sec)\n",
    "        #nearby_sec = json_normalize([x['venue'] for x in query['response']['groups'][0]['items']])\n",
    "        #nearby_sec.columns = [colname.split('.')[-1] for colname in nearby_sec.columns]\n",
    "\n",
    "        nearby_sec['category1'] = [x.split('/')[5] for x in nearby_sec['category_url'].tolist()]\n",
    "        nearby_sec['category2'] = [x.split('/')[6] for x in nearby_sec['category_url'].tolist()]\n",
    "        nearby_sec = nearby_sec[['name', 'category1', 'category2', 'id']]\n",
    "        nearby.append(nearby_sec)\n",
    "        del params, query, nearby_sec\n",
    "    del section, url\n",
    "    print('Merging all results.')\n",
    "    nearby = pd.concat(nearby, axis=0, ignore_index=True, sort=False)\n",
    "    nearby.drop_duplicates(subset='id', inplace=True)\n",
    "    nearby.reset_index(drop=True)\n",
    "    return nearby"
   ]
  },
  {
   "cell_type": "markdown",
   "metadata": {},
   "source": [
    "We write a for loop that calls the above function to search for nearby venues for every coffee location in our dataset. Then the results are appended into a dictionary."
   ]
  },
  {
   "cell_type": "markdown",
   "metadata": {},
   "source": [
    "neighbors = []\n",
    "for ii in coffee.index:\n",
    "    print(ii)\n",
    "    coord = (coffee.loc[ii, 'lat'], coffee.loc[ii, 'lng'])\n",
    "    print('Find nearby', coord)\n",
    "    nearby = find_nearby(coord)\n",
    "    neighbors.append({'coffee_id': coffee.loc[ii, 'id'],\n",
    "                      'neighbors': nearby})\n",
    "    del nearby\n",
    "del ii"
   ]
  },
  {
   "cell_type": "markdown",
   "metadata": {},
   "source": [
    "I ran the above for loop and it was a bit time consuming to get the results and sometimes Foursquare would hang up returning an error. To save your time in reading this report, I saved the results into a pickle file which we can load in the following code:"
   ]
  },
  {
   "cell_type": "code",
   "execution_count": 13,
   "metadata": {},
   "outputs": [],
   "source": [
    "neighbors = pickle.load(open('Neighbors.pkl', 'rb'))"
   ]
  },
  {
   "cell_type": "markdown",
   "metadata": {},
   "source": [
    "Let me show you a little bit how the \"neighbors\" dataset is structured. It is a list where each item in the list contains the neighbors of a coffee shop. Because we have 22 coffee shops, the length of the list is also 22."
   ]
  },
  {
   "cell_type": "code",
   "execution_count": 14,
   "metadata": {},
   "outputs": [
    {
     "name": "stdout",
     "output_type": "stream",
     "text": [
      "Neighbors data type = <class 'list'>\n",
      "List length = 22\n",
      "Dictionary inside the list contains keys dict_keys(['coffee_id', 'neighbors'])\n"
     ]
    }
   ],
   "source": [
    "print('Neighbors data type =', type(neighbors))\n",
    "print('List length =', len(neighbors))\n",
    "print('Dictionary inside the list contains keys', neighbors[0].keys())"
   ]
  },
  {
   "cell_type": "code",
   "execution_count": 15,
   "metadata": {},
   "outputs": [
    {
     "name": "stdout",
     "output_type": "stream",
     "text": [
      "Coffee shop id 53ace690498ee1246590366b has 155 neighbors.\n",
      "Here are the first 7 neighbors of this coffee shop:\n"
     ]
    },
    {
     "data": {
      "text/html": [
       "<div>\n",
       "<style scoped>\n",
       "    .dataframe tbody tr th:only-of-type {\n",
       "        vertical-align: middle;\n",
       "    }\n",
       "\n",
       "    .dataframe tbody tr th {\n",
       "        vertical-align: top;\n",
       "    }\n",
       "\n",
       "    .dataframe thead th {\n",
       "        text-align: right;\n",
       "    }\n",
       "</style>\n",
       "<table border=\"1\" class=\"dataframe\">\n",
       "  <thead>\n",
       "    <tr style=\"text-align: right;\">\n",
       "      <th></th>\n",
       "      <th>name</th>\n",
       "      <th>category1</th>\n",
       "      <th>category2</th>\n",
       "      <th>id</th>\n",
       "    </tr>\n",
       "  </thead>\n",
       "  <tbody>\n",
       "    <tr>\n",
       "      <th>0</th>\n",
       "      <td>Indulge</td>\n",
       "      <td>food</td>\n",
       "      <td>diner_</td>\n",
       "      <td>5282471f498edd6f657331a8</td>\n",
       "    </tr>\n",
       "    <tr>\n",
       "      <th>1</th>\n",
       "      <td>ICHIRO Sushi Bar</td>\n",
       "      <td>food</td>\n",
       "      <td>sushi_</td>\n",
       "      <td>4fc092e8e4b0f6b4ed9c26db</td>\n",
       "    </tr>\n",
       "    <tr>\n",
       "      <th>2</th>\n",
       "      <td>Garrett Popcorn</td>\n",
       "      <td>food</td>\n",
       "      <td>snacks_</td>\n",
       "      <td>5759683acd109dccba6aa08f</td>\n",
       "    </tr>\n",
       "    <tr>\n",
       "      <th>3</th>\n",
       "      <td>Tonkatsu by Ma Maison</td>\n",
       "      <td>food</td>\n",
       "      <td>japanese_</td>\n",
       "      <td>50e685e47ab45e59eef716b7</td>\n",
       "    </tr>\n",
       "    <tr>\n",
       "      <th>4</th>\n",
       "      <td>The Fish Bowl</td>\n",
       "      <td>food</td>\n",
       "      <td>default_</td>\n",
       "      <td>590025ee6fd6262556826ce6</td>\n",
       "    </tr>\n",
       "    <tr>\n",
       "      <th>5</th>\n",
       "      <td>Seaweed Club</td>\n",
       "      <td>food</td>\n",
       "      <td>snacks_</td>\n",
       "      <td>50e69d2ce4b07895f2a3db49</td>\n",
       "    </tr>\n",
       "    <tr>\n",
       "      <th>6</th>\n",
       "      <td>KOM'S by KomPassion</td>\n",
       "      <td>food</td>\n",
       "      <td>thai_</td>\n",
       "      <td>5b4db4a090d1ed002cd9bcb2</td>\n",
       "    </tr>\n",
       "  </tbody>\n",
       "</table>\n",
       "</div>"
      ],
      "text/plain": [
       "                    name category1  category2                        id\n",
       "0                Indulge      food     diner_  5282471f498edd6f657331a8\n",
       "1       ICHIRO Sushi Bar      food     sushi_  4fc092e8e4b0f6b4ed9c26db\n",
       "2        Garrett Popcorn      food    snacks_  5759683acd109dccba6aa08f\n",
       "3  Tonkatsu by Ma Maison      food  japanese_  50e685e47ab45e59eef716b7\n",
       "4          The Fish Bowl      food   default_  590025ee6fd6262556826ce6\n",
       "5           Seaweed Club      food    snacks_  50e69d2ce4b07895f2a3db49\n",
       "6    KOM'S by KomPassion      food      thai_  5b4db4a090d1ed002cd9bcb2"
      ]
     },
     "execution_count": 15,
     "metadata": {},
     "output_type": "execute_result"
    }
   ],
   "source": [
    "#The nearby neighbors data is a Pandas dataframe with the venue's name and category\n",
    "print('Coffee shop id', neighbors[0]['coffee_id'], 'has', len(neighbors[0]['neighbors']), 'neighbors.')\n",
    "print('Here are the first 7 neighbors of this coffee shop:')\n",
    "neighbors[0]['neighbors'].head(7)"
   ]
  },
  {
   "cell_type": "markdown",
   "metadata": {},
   "source": [
    "With the neighbors dataset, we identify all the unique categories that exist in the data set. Here we are only interested in getting the category1 because if we include category2, the number of features will get out of hand. We only have 22 coffee shops, so we want to keep the feature table from getting too wide."
   ]
  },
  {
   "cell_type": "code",
   "execution_count": 16,
   "metadata": {},
   "outputs": [],
   "source": [
    "all_cats = []\n",
    "for nb in neighbors:\n",
    "    cats = nb['neighbors'][['category1']].drop_duplicates()\n",
    "    all_cats.append(cats)\n",
    "all_cats = pd.concat(all_cats)\n",
    "all_cats.drop_duplicates(inplace=True)\n",
    "all_cats.sort_values(by='category1', inplace=True)\n",
    "all_cats.reset_index(drop=True, inplace=True)\n",
    "del cats, nb"
   ]
  },
  {
   "cell_type": "code",
   "execution_count": 17,
   "metadata": {},
   "outputs": [
    {
     "name": "stdout",
     "output_type": "stream",
     "text": [
      "            category1\n",
      "0  arts_entertainment\n",
      "1            building\n",
      "2           education\n",
      "3                food\n",
      "4           nightlife\n",
      "5      parks_outdoors\n",
      "6               shops\n",
      "7              travel\n"
     ]
    }
   ],
   "source": [
    "# The neigbhor categories are:\n",
    "print(all_cats)"
   ]
  },
  {
   "cell_type": "markdown",
   "metadata": {},
   "source": [
    "Using the available categories above, we develop a feature table which counts the number of venues for each category."
   ]
  },
  {
   "cell_type": "code",
   "execution_count": 18,
   "metadata": {},
   "outputs": [],
   "source": [
    "#%% Create Features of Category Venue Count\n",
    "features = pd.DataFrame(data=0, columns=all_cats['category1'].unique(), index=coffee['id'])\n",
    "for nb in neighbors:\n",
    "    coffee_id = nb['coffee_id']\n",
    "    cat1s = nb['neighbors']['category1'].unique()\n",
    "    for cat1 in cat1s:\n",
    "        features.loc[coffee_id, cat1] = (nb['neighbors']['category1'] == cat1).sum()\n",
    "    del cat1s, cat1, coffee_id\n",
    "del nb"
   ]
  },
  {
   "cell_type": "markdown",
   "metadata": {},
   "source": [
    "Here is our features table:"
   ]
  },
  {
   "cell_type": "code",
   "execution_count": 19,
   "metadata": {},
   "outputs": [
    {
     "data": {
      "text/html": [
       "<div>\n",
       "<style scoped>\n",
       "    .dataframe tbody tr th:only-of-type {\n",
       "        vertical-align: middle;\n",
       "    }\n",
       "\n",
       "    .dataframe tbody tr th {\n",
       "        vertical-align: top;\n",
       "    }\n",
       "\n",
       "    .dataframe thead th {\n",
       "        text-align: right;\n",
       "    }\n",
       "</style>\n",
       "<table border=\"1\" class=\"dataframe\">\n",
       "  <thead>\n",
       "    <tr style=\"text-align: right;\">\n",
       "      <th></th>\n",
       "      <th>arts_entertainment</th>\n",
       "      <th>building</th>\n",
       "      <th>education</th>\n",
       "      <th>food</th>\n",
       "      <th>nightlife</th>\n",
       "      <th>parks_outdoors</th>\n",
       "      <th>shops</th>\n",
       "      <th>travel</th>\n",
       "    </tr>\n",
       "    <tr>\n",
       "      <th>id</th>\n",
       "      <th></th>\n",
       "      <th></th>\n",
       "      <th></th>\n",
       "      <th></th>\n",
       "      <th></th>\n",
       "      <th></th>\n",
       "      <th></th>\n",
       "      <th></th>\n",
       "    </tr>\n",
       "  </thead>\n",
       "  <tbody>\n",
       "    <tr>\n",
       "      <th>53ace690498ee1246590366b</th>\n",
       "      <td>7</td>\n",
       "      <td>4</td>\n",
       "      <td>0</td>\n",
       "      <td>38</td>\n",
       "      <td>4</td>\n",
       "      <td>3</td>\n",
       "      <td>99</td>\n",
       "      <td>0</td>\n",
       "    </tr>\n",
       "    <tr>\n",
       "      <th>4b61623ef964a520b0112ae3</th>\n",
       "      <td>10</td>\n",
       "      <td>4</td>\n",
       "      <td>1</td>\n",
       "      <td>28</td>\n",
       "      <td>4</td>\n",
       "      <td>5</td>\n",
       "      <td>102</td>\n",
       "      <td>0</td>\n",
       "    </tr>\n",
       "    <tr>\n",
       "      <th>533a4b93498ea0140dda4c88</th>\n",
       "      <td>6</td>\n",
       "      <td>3</td>\n",
       "      <td>0</td>\n",
       "      <td>17</td>\n",
       "      <td>12</td>\n",
       "      <td>1</td>\n",
       "      <td>27</td>\n",
       "      <td>0</td>\n",
       "    </tr>\n",
       "    <tr>\n",
       "      <th>4b0e8c7bf964a520625823e3</th>\n",
       "      <td>5</td>\n",
       "      <td>2</td>\n",
       "      <td>0</td>\n",
       "      <td>48</td>\n",
       "      <td>0</td>\n",
       "      <td>3</td>\n",
       "      <td>104</td>\n",
       "      <td>2</td>\n",
       "    </tr>\n",
       "    <tr>\n",
       "      <th>4b0d1050f964a520894323e3</th>\n",
       "      <td>5</td>\n",
       "      <td>4</td>\n",
       "      <td>0</td>\n",
       "      <td>51</td>\n",
       "      <td>1</td>\n",
       "      <td>5</td>\n",
       "      <td>105</td>\n",
       "      <td>2</td>\n",
       "    </tr>\n",
       "  </tbody>\n",
       "</table>\n",
       "</div>"
      ],
      "text/plain": [
       "                          arts_entertainment  building  education  food  \\\n",
       "id                                                                        \n",
       "53ace690498ee1246590366b                   7         4          0    38   \n",
       "4b61623ef964a520b0112ae3                  10         4          1    28   \n",
       "533a4b93498ea0140dda4c88                   6         3          0    17   \n",
       "4b0e8c7bf964a520625823e3                   5         2          0    48   \n",
       "4b0d1050f964a520894323e3                   5         4          0    51   \n",
       "\n",
       "                          nightlife  parks_outdoors  shops  travel  \n",
       "id                                                                  \n",
       "53ace690498ee1246590366b          4               3     99       0  \n",
       "4b61623ef964a520b0112ae3          4               5    102       0  \n",
       "533a4b93498ea0140dda4c88         12               1     27       0  \n",
       "4b0e8c7bf964a520625823e3          0               3    104       2  \n",
       "4b0d1050f964a520894323e3          1               5    105       2  "
      ]
     },
     "execution_count": 19,
     "metadata": {},
     "output_type": "execute_result"
    }
   ],
   "source": [
    "features.head(5)"
   ]
  },
  {
   "cell_type": "markdown",
   "metadata": {},
   "source": [
    "### Build the Target Variable"
   ]
  },
  {
   "cell_type": "markdown",
   "metadata": {},
   "source": [
    "In the previous section, we created a features table that will be used to train a classification model. Now, let's define our target which is the rating count obtained from before."
   ]
  },
  {
   "cell_type": "code",
   "execution_count": 20,
   "metadata": {},
   "outputs": [
    {
     "name": "stdout",
     "output_type": "stream",
     "text": [
      "Target variable:\n"
     ]
    },
    {
     "data": {
      "text/plain": [
       "id\n",
       "53ace690498ee1246590366b    121\n",
       "4b61623ef964a520b0112ae3    622\n",
       "533a4b93498ea0140dda4c88     93\n",
       "4b0e8c7bf964a520625823e3    241\n",
       "4b0d1050f964a520894323e3    538\n",
       "Name: ratingCount, dtype: int64"
      ]
     },
     "execution_count": 20,
     "metadata": {},
     "output_type": "execute_result"
    }
   ],
   "source": [
    "# Create the target variable\n",
    "venue_ratings = pd.Series(data=coffee['ratingSignals'].values, index=coffee['id'], name='ratingCount')\n",
    "print('Target variable:')\n",
    "venue_ratings.head(5)"
   ]
  },
  {
   "cell_type": "markdown",
   "metadata": {},
   "source": [
    "Because the rating count is somewhat a broad approximation and it has no defined upper limit, it is not appropriate to use the raw values to define how busy a coffee shop is. To normalize the data, we create 3 level map of traffic of low, medium, and high, where:\n",
    "* rating count < 50, traffic = 0 (low)\n",
    "* rating count 51-149, traffic = 1 (medium)\n",
    "* rating count >= 150, traffic = 2 (high)"
   ]
  },
  {
   "cell_type": "code",
   "execution_count": 21,
   "metadata": {},
   "outputs": [
    {
     "data": {
      "text/html": [
       "<div>\n",
       "<style scoped>\n",
       "    .dataframe tbody tr th:only-of-type {\n",
       "        vertical-align: middle;\n",
       "    }\n",
       "\n",
       "    .dataframe tbody tr th {\n",
       "        vertical-align: top;\n",
       "    }\n",
       "\n",
       "    .dataframe thead th {\n",
       "        text-align: right;\n",
       "    }\n",
       "</style>\n",
       "<table border=\"1\" class=\"dataframe\">\n",
       "  <thead>\n",
       "    <tr style=\"text-align: right;\">\n",
       "      <th></th>\n",
       "      <th>ratingCount</th>\n",
       "      <th>traffic</th>\n",
       "    </tr>\n",
       "    <tr>\n",
       "      <th>id</th>\n",
       "      <th></th>\n",
       "      <th></th>\n",
       "    </tr>\n",
       "  </thead>\n",
       "  <tbody>\n",
       "    <tr>\n",
       "      <th>53ace690498ee1246590366b</th>\n",
       "      <td>121</td>\n",
       "      <td>1</td>\n",
       "    </tr>\n",
       "    <tr>\n",
       "      <th>4b61623ef964a520b0112ae3</th>\n",
       "      <td>622</td>\n",
       "      <td>2</td>\n",
       "    </tr>\n",
       "    <tr>\n",
       "      <th>533a4b93498ea0140dda4c88</th>\n",
       "      <td>93</td>\n",
       "      <td>1</td>\n",
       "    </tr>\n",
       "    <tr>\n",
       "      <th>4b0e8c7bf964a520625823e3</th>\n",
       "      <td>241</td>\n",
       "      <td>2</td>\n",
       "    </tr>\n",
       "    <tr>\n",
       "      <th>4b0d1050f964a520894323e3</th>\n",
       "      <td>538</td>\n",
       "      <td>2</td>\n",
       "    </tr>\n",
       "  </tbody>\n",
       "</table>\n",
       "</div>"
      ],
      "text/plain": [
       "                          ratingCount  traffic\n",
       "id                                            \n",
       "53ace690498ee1246590366b          121        1\n",
       "4b61623ef964a520b0112ae3          622        2\n",
       "533a4b93498ea0140dda4c88           93        1\n",
       "4b0e8c7bf964a520625823e3          241        2\n",
       "4b0d1050f964a520894323e3          538        2"
      ]
     },
     "execution_count": 21,
     "metadata": {},
     "output_type": "execute_result"
    }
   ],
   "source": [
    "# Map the ratings to traffic levels 0, 1, or 2\n",
    "venue_ratings = venue_ratings.to_frame()\n",
    "venue_ratings['traffic'] = -1\n",
    "venue_ratings.loc[venue_ratings['ratingCount'] >= 150, 'traffic'] = 2\n",
    "venue_ratings.loc[venue_ratings['ratingCount'] < 150, 'traffic'] = 1\n",
    "venue_ratings.loc[venue_ratings['ratingCount'] < 50, 'traffic'] = 0\n",
    "venue_ratings.head(5)"
   ]
  },
  {
   "cell_type": "markdown",
   "metadata": {},
   "source": [
    "### Build a Classifier Model"
   ]
  },
  {
   "cell_type": "markdown",
   "metadata": {},
   "source": [
    "For classification, a decision tree model was chosen because it has the transparency to tell us how the features are split to determine the traffic prediction.\n",
    "\n",
    "Because of our limited data of only 22 shops, we want to maximize our testing by performing a leave-one-out cross validation."
   ]
  },
  {
   "cell_type": "code",
   "execution_count": 49,
   "metadata": {},
   "outputs": [
    {
     "name": "stdout",
     "output_type": "stream",
     "text": [
      "Overall accuracy =  0.5454545454545454\n"
     ]
    }
   ],
   "source": [
    "clf = tree.DecisionTreeClassifier(max_depth=10)\n",
    "X = features.sort_index().values\n",
    "y = venue_ratings['traffic'].sort_index().values\n",
    "\n",
    "loo = LeaveOneOut()\n",
    "yhat = np.zeros(len(y)) # initialize yhat with zeros\n",
    "for train_ind, test_ind in loo.split(X):\n",
    "    clf.fit(X[train_ind, :], y[train_ind]) # train\n",
    "    yhat[test_ind] = clf.predict(X[test_ind, :]) # test\n",
    "print('Overall accuracy = ', np.mean(yhat==y))"
   ]
  },
  {
   "cell_type": "markdown",
   "metadata": {},
   "source": [
    "# Results"
   ]
  },
  {
   "cell_type": "markdown",
   "metadata": {},
   "source": [
    "The overall accuracy is not very high, but this is a challenging problem with many data quality issues from Foursquare. It would be very difficult for a human to make guesses and achieve this level of accuracy. Let's review the accuracy metrics in more detail:"
   ]
  },
  {
   "cell_type": "code",
   "execution_count": 50,
   "metadata": {},
   "outputs": [
    {
     "name": "stdout",
     "output_type": "stream",
     "text": [
      "              precision    recall  f1-score   support\n",
      "\n",
      "         low       0.40      0.40      0.40         5\n",
      "      medium       0.60      0.75      0.67         8\n",
      "        high       0.57      0.44      0.50         9\n",
      "\n",
      "    accuracy                           0.55        22\n",
      "   macro avg       0.52      0.53      0.52        22\n",
      "weighted avg       0.54      0.55      0.54        22\n",
      "\n"
     ]
    }
   ],
   "source": [
    "print(metrics.classification_report(y, yhat, target_names=['low', 'medium', 'high']))"
   ]
  },
  {
   "cell_type": "markdown",
   "metadata": {},
   "source": [
    "The f1-scores across 3 classes do not show any high imbalance of favoring one class, so we can assume that the classifier performed somewhat equally across different classes.\n",
    "\n",
    "Apart from the accuracy, perhaps what is more interesting is the features that defined the tree which can give us an insight into what matters in having a successful coffee shop. We can obtain that information by probing into the tree diagram below:"
   ]
  },
  {
   "cell_type": "code",
   "execution_count": 52,
   "metadata": {},
   "outputs": [
    {
     "data": {
      "text/plain": [
       "[Text(372.0, 398.64, 'shops <= 12.5\\nentropy = 0.649\\nsamples = 22\\nvalue = [5, 8, 9]\\nclass = high'),\n",
       " Text(279.0, 326.15999999999997, 'entropy = 0.0\\nsamples = 4\\nvalue = [4, 0, 0]\\nclass = low'),\n",
       " Text(465.0, 326.15999999999997, 'nightlife <= 4.5\\nentropy = 0.549\\nsamples = 18\\nvalue = [1, 8, 9]\\nclass = high'),\n",
       " Text(372.0, 253.67999999999998, 'nightlife <= 1.5\\nentropy = 0.462\\nsamples = 13\\nvalue = [1, 3, 9]\\nclass = high'),\n",
       " Text(186.0, 181.2, 'education <= 0.5\\nentropy = 0.245\\nsamples = 7\\nvalue = [1, 0, 6]\\nclass = high'),\n",
       " Text(93.0, 108.71999999999997, 'entropy = 0.0\\nsamples = 5\\nvalue = [0, 0, 5]\\nclass = high'),\n",
       " Text(279.0, 108.71999999999997, 'shops <= 19.0\\nentropy = 0.5\\nsamples = 2\\nvalue = [1, 0, 1]\\nclass = low'),\n",
       " Text(186.0, 36.23999999999995, 'entropy = 0.0\\nsamples = 1\\nvalue = [0, 0, 1]\\nclass = high'),\n",
       " Text(372.0, 36.23999999999995, 'entropy = 0.0\\nsamples = 1\\nvalue = [1, 0, 0]\\nclass = low'),\n",
       " Text(558.0, 181.2, 'shops <= 35.0\\nentropy = 0.5\\nsamples = 6\\nvalue = [0, 3, 3]\\nclass = medium'),\n",
       " Text(465.0, 108.71999999999997, 'entropy = 0.0\\nsamples = 2\\nvalue = [0, 2, 0]\\nclass = medium'),\n",
       " Text(651.0, 108.71999999999997, 'food <= 33.5\\nentropy = 0.375\\nsamples = 4\\nvalue = [0, 1, 3]\\nclass = high'),\n",
       " Text(558.0, 36.23999999999995, 'entropy = 0.0\\nsamples = 3\\nvalue = [0, 0, 3]\\nclass = high'),\n",
       " Text(744.0, 36.23999999999995, 'entropy = 0.0\\nsamples = 1\\nvalue = [0, 1, 0]\\nclass = medium'),\n",
       " Text(558.0, 253.67999999999998, 'entropy = 0.0\\nsamples = 5\\nvalue = [0, 5, 0]\\nclass = medium')]"
      ]
     },
     "execution_count": 52,
     "metadata": {},
     "output_type": "execute_result"
    },
    {
     "data": {
      "image/png": "[encoded data removed]",
      "text/plain": [
       "<Figure size 1080x576 with 1 Axes>"
      ]
     },
     "metadata": {
      "needs_background": "light"
     },
     "output_type": "display_data"
    }
   ],
   "source": [
    "clf.fit(X, y) # retrain on all data\n",
    "plt.figure(figsize=[15, 8])\n",
    "tree.plot_tree(clf, feature_names=features.columns.tolist(), class_names=['low', 'medium', 'high'], fontsize=8)"
   ]
  },
  {
   "cell_type": "markdown",
   "metadata": {},
   "source": [
    "# Discussion"
   ]
  },
  {
   "cell_type": "markdown",
   "metadata": {},
   "source": [
    "From the decision tree diagram, we found that the presence of shops took the top position in predicting if a coffee shop will get high business or not, and followed by nightlife. \n",
    "\n",
    "The bottom node with 5 samples of \"high\" (most left) is a pure node with highest number of high traffic. If we follow the path to get there, we come up with the following criteria:\n",
    "1. If the number of nearby shops >= 13, and\n",
    "2. number of nearby nightlife venues >= 5, and\n",
    "3. number of nearby education venues >= 1, then the customer traffic will be high\n",
    "\n",
    "It is quite easy to understand the above finding as we relate with real-life situation. If a coffee shop is surrounded by many shops, near nightlife attractions and a college, then it will definitely attract a wide spectrum of customers from daytime shoppers, night goers and students.\n",
    "\n",
    "\n",
    "**So, how can we actually use this information to decide on a new shop location?**</br>\n",
    "Well, one way to do it is by using the Foursquare data to search for all locations of shops, nightlife, and education in a given neighborhood. The data will be quite large to download but this should be computationally pretty fast to process. Then, we could apply k-means clustering to find clusters which satisfy our neighborhood requirements and place a coffee shop there.\n",
    "\n",
    "We can further improve the accuracy by collecting more coffee shops data around KL, cleaning up the neighbors data from erroneous venues, and using other sources such as Google Maps. We kept the scope of this study small and within the free services provided by Foursquare. "
   ]
  },
  {
   "cell_type": "markdown",
   "metadata": {},
   "source": [
    "# Conclusion\n",
    "In this study, we have looked at some data from coffee shops in Kuala Lumpur to identify combination of factors that may help a business owner to decide where to place a new coffee shop so that it will receive high business traffic. The results were based on some limited data as provided by Foursquare in the form of location, customer ratings, and neighboring venues. We found several instances of inaccuracies in the Foursquare data. Despite the limitations with the data, the result of decision tree prediction gives a reasonable answer as to why certain coffee shops are more successful than others. Among the important factors are the presence of nearby shops, nightlife attractions, and education institutions. "
   ]
  }
 ],
 "metadata": {
  "kernelspec": {
   "display_name": "Python 3",
   "language": "python",
   "name": "python3"
  },
  "language_info": {
   "codemirror_mode": {
    "name": "ipython",
    "version": 3
   },
   "file_extension": ".py",
   "mimetype": "text/x-python",
   "name": "python",
   "nbconvert_exporter": "python",
   "pygments_lexer": "ipython3",
   "version": "3.7.3"
  }
 },
 "nbformat": 4,
 "nbformat_minor": 2
}
